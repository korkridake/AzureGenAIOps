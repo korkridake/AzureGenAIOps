{
 "cells": [
  {
   "cell_type": "markdown",
   "metadata": {},
   "source": [
    "# Azure GenAI Ops - Data Exploration\n",
    "\n",
    "This notebook demonstrates data exploration and preprocessing for the GenAI pipeline."
   ]
  },
  {
   "cell_type": "code",
   "execution_count": null,
   "metadata": {},
   "outputs": [],
   "source": [
    "import pandas as pd\n",
    "import matplotlib.pyplot as plt\n",
    "import seaborn as sns\n",
    "from pathlib import Path\n",
    "\n",
    "# Set up paths\n",
    "project_root = Path().resolve().parent\n",
    "data_dir = project_root / \"data\"\n",
    "\n",
    "print(f\"Project root: {project_root}\")\n",
    "print(f\"Data directory: {data_dir}\")"
   ]
  },
  {
   "cell_type": "markdown",
   "metadata": {},
   "source": [
    "## Load Sample Data"
   ]
  },
  {
   "cell_type": "code",
   "execution_count": null,
   "metadata": {},
   "outputs": [],
   "source": [
    "# Load sample data\n",
    "sample_data_path = data_dir / \"raw\" / \"sample_data.csv\"\n",
    "df = pd.read_csv(sample_data_path)\n",
    "\n",
    "print(f\"Dataset shape: {df.shape}\")\n",
    "print(f\"\\nColumns: {list(df.columns)}\")\n",
    "print(f\"\\nFirst few rows:\")\n",
    "df.head()"
   ]
  },
  {
   "cell_type": "markdown",
   "metadata": {},
   "source": [
    "## Data Analysis"
   ]
  },
  {
   "cell_type": "code",
   "execution_count": null,
   "metadata": {},
   "outputs": [],
   "source": [
    "# Basic statistics\n",
    "print(\"Dataset Info:\")\n",
    "print(f\"Total samples: {len(df)}\")\n",
    "print(f\"Missing values: {df.isnull().sum().sum()}\")\n",
    "print(f\"\\nLabel distribution:\")\n",
    "print(df['label'].value_counts())"
   ]
  },
  {
   "cell_type": "code",
   "execution_count": null,
   "metadata": {},
   "outputs": [],
   "source": [
    "# Visualize label distribution\n",
    "plt.figure(figsize=(8, 6))\n",
    "sns.countplot(data=df, x='label')\n",
    "plt.title('Distribution of Labels')\n",
    "plt.xlabel('Label')\n",
    "plt.ylabel('Count')\n",
    "plt.xticks(rotation=45)\n",
    "plt.tight_layout()\n",
    "plt.show()"
   ]
  },
  {
   "cell_type": "code",
   "execution_count": null,
   "metadata": {},
   "outputs": [],
   "source": [
    "# Text length analysis\n",
    "df['text_length'] = df['text'].str.len()\n",
    "\n",
    "print(\"Text length statistics:\")\n",
    "print(df['text_length'].describe())\n",
    "\n",
    "# Plot text length distribution\n",
    "plt.figure(figsize=(10, 6))\n",
    "sns.histplot(data=df, x='text_length', hue='label', bins=20)\n",
    "plt.title('Text Length Distribution by Label')\n",
    "plt.xlabel('Text Length (characters)')\n",
    "plt.ylabel('Frequency')\n",
    "plt.tight_layout()\n",
    "plt.show()"
   ]
  },
  {
   "cell_type": "markdown",
   "metadata": {},
   "source": [
    "## Data Preprocessing"
   ]
  },
  {
   "cell_type": "code",
   "execution_count": null,
   "metadata": {},
   "outputs": [],
   "source": [
    "# Import data processing functions\n",
    "import sys\n",
    "sys.path.append(str(project_root / \"src\"))\n",
    "\n",
    "from src.data.make_dataset import DataProcessor\n",
    "\n",
    "# Initialize processor\n",
    "processor = DataProcessor()\n",
    "\n",
    "# Preprocess text data\n",
    "processed_df = processor.preprocess_text_data(df, \"text\")\n",
    "print(f\"Original samples: {len(df)}\")\n",
    "print(f\"After preprocessing: {len(processed_df)}\")"
   ]
  },
  {
   "cell_type": "code",
   "execution_count": null,
   "metadata": {},
   "outputs": [],
   "source": [
    "# Split data\n",
    "data_splits = processor.split_data(processed_df, train_ratio=0.6, val_ratio=0.2)\n",
    "\n",
    "print(\"Data splits:\")\n",
    "for split_name, split_df in data_splits.items():\n",
    "    print(f\"{split_name}: {len(split_df)} samples\")\n",
    "    print(f\"  Label distribution: {split_df['label'].value_counts().to_dict()}\")\n",
    "    print()"
   ]
  },
  {
   "cell_type": "markdown",
   "metadata": {},
   "source": [
    "## Azure OpenAI Integration Demo"
   ]
  },
  {
   "cell_type": "code",
   "execution_count": null,
   "metadata": {},
   "outputs": [],
   "source": [
    "# Note: This requires valid Azure OpenAI credentials\n",
    "# Uncomment and run if you have proper configuration\n",
    "\n",
    "# from src.models.azure_openai import GenAIModel, PromptTemplate\n",
    "\n",
    "# # Initialize model (requires valid Azure credentials)\n",
    "# try:\n",
    "#     model = GenAIModel()\n",
    "#     \n",
    "#     # Example classification prompt\n",
    "#     sample_text = \"This is an amazing product!\"\n",
    "#     prompt = f\"\"\"\n",
    "#     Classify the following text as positive, negative, or neutral:\n",
    "#     \n",
    "#     Text: {sample_text}\n",
    "#     \n",
    "#     Classification:\n",
    "#     \"\"\"\n",
    "#     \n",
    "#     result = model.predict(prompt)\n",
    "#     print(f\"Input: {sample_text}\")\n",
    "#     print(f\"Classification: {result}\")\n",
    "#     \n",
    "# except Exception as e:\n",
    "#     print(f\"Azure OpenAI not configured: {e}\")\n",
    "#     print(\"Please set up your Azure OpenAI credentials to test this functionality.\")\n",
    "\n",
    "print(\"Azure OpenAI integration available - see comments in cell above for demo.\")"
   ]
  },
  {
   "cell_type": "markdown",
   "metadata": {},
   "source": [
    "## Next Steps\n",
    "\n",
    "1. **Data Collection**: Gather more training data for your specific use case\n",
    "2. **Feature Engineering**: Create additional features if needed\n",
    "3. **Model Training**: Use the training pipeline to train your GenAI model\n",
    "4. **Evaluation**: Assess model performance using the evaluation framework\n",
    "5. **Deployment**: Deploy your trained model using the CI/CD pipeline\n",
    "\n",
    "See the project README and other notebooks for more detailed workflows."
   ]
  }
 ],
 "metadata": {
  "kernelspec": {
   "display_name": "Python 3",
   "language": "python",
   "name": "python3"
  },
  "language_info": {
   "codemirror_mode": {
    "name": "ipython",
    "version": 3
   },
   "file_extension": ".py",
   "mimetype": "text/x-python",
   "name": "python",
   "nbconvert_exporter": "python",
   "pygments_lexer": "ipython3",
   "version": "3.9.0"
  }
 },
 "nbformat": 4,
 "nbformat_minor": 4
}